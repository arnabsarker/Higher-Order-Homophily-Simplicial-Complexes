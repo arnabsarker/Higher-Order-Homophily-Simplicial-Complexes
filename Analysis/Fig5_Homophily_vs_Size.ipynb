{
 "cells": [
  {
   "cell_type": "code",
   "execution_count": 1,
   "id": "81576633",
   "metadata": {},
   "outputs": [],
   "source": [
    "import pandas as pd\n",
    "import numpy as np\n",
    "import matplotlib.pyplot as plt"
   ]
  },
  {
   "cell_type": "code",
   "execution_count": 2,
   "id": "731a96a0",
   "metadata": {},
   "outputs": [],
   "source": [
    "homophily_df = pd.read_csv(\"../Results/homophily_results.csv\")\n",
    "homophily_df['simplicial_score_2'] = homophily_df['dyadic_score'] \n",
    "homophily_df['hypergraph_score_2'] = homophily_df['dyadic_score']"
   ]
  },
  {
   "cell_type": "code",
   "execution_count": 3,
   "id": "b703ccc7",
   "metadata": {},
   "outputs": [],
   "source": [
    "plot_arr = []\n",
    "x = [i for i in range(2, 8 + 1)]\n",
    "for dataset in homophily_df['dataset']:\n",
    "    for k in x:\n",
    "        plot_arr.append({\n",
    "            'dataset': dataset,\n",
    "            'group_size': k,\n",
    "            'simplicial_score': homophily_df.set_index('dataset').loc[dataset, f'simplicial_score_{k}'],\n",
    "            'hypergraph_score': homophily_df.set_index('dataset').loc[dataset, f'hypergraph_score_{k}'],\n",
    "        })"
   ]
  },
  {
   "cell_type": "code",
   "execution_count": 4,
   "id": "691154f5",
   "metadata": {},
   "outputs": [],
   "source": [
    "plot_df = pd.DataFrame(plot_arr)\n",
    "plot_df = plot_df[plot_df['group_size'] <= 5]"
   ]
  },
  {
   "cell_type": "code",
   "execution_count": 5,
   "id": "28a89126",
   "metadata": {},
   "outputs": [
    {
     "data": {
      "image/png": "[encoded data removed]",
      "text/plain": [
       "<Figure size 1080x432 with 2 Axes>"
      ]
     },
     "metadata": {
      "needs_background": "light"
     },
     "output_type": "display_data"
    }
   ],
   "source": [
    "fig, axs = plt.subplots(1, 2, figsize=(15, 6))\n",
    "for i, dataset in enumerate(['clicks-trivago', 'cont-hospital']):\n",
    "    x = plot_df.loc[plot_df['dataset'] == dataset, 'group_size']\n",
    "\n",
    "    s = 500\n",
    "    simplicial = plot_df.loc[plot_df['dataset'] == dataset, 'simplicial_score']\n",
    "    hypergraph = plot_df.loc[plot_df['dataset'] == dataset, 'hypergraph_score']\n",
    "\n",
    "    err = 0.0000\n",
    "    axs[i].scatter(x[simplicial < 1 - err], simplicial[simplicial < 1 - err], c='red', marker=\"_\", s=s, \n",
    "               label='Simplicial Score (< 1)')\n",
    "    axs[i].scatter(x[simplicial > 1 + err], simplicial[simplicial > 1 + err], c='red', marker=\"+\", s=s, \n",
    "               label='Simplicial Score (> 1)')\n",
    "    axs[i].scatter(x[(simplicial >= 1 - err) & (simplicial <= 1 + err)], \n",
    "               simplicial[(simplicial >= 1 - err) & (simplicial <= 1 + err)], \n",
    "               c='red', marker=\"o\", s=s/20, \n",
    "               label='Simplicial Score (= 1)')\n",
    "\n",
    "    axs[i].scatter(x[hypergraph < 1], hypergraph[hypergraph < 1], c='blue', marker=\"_\", s=s, \n",
    "               label='Hypergraph Score (< 1)')\n",
    "    axs[i].scatter(x[hypergraph > 1], hypergraph[hypergraph > 1], c='blue', marker=\"+\", s=s, \n",
    "               label='Hypergraph Score (> 1)')\n",
    "    axs[i].scatter(x[(hypergraph >= 1 - err) & (hypergraph <= 1 + err)], \n",
    "               hypergraph[(hypergraph >= 1 - err) & (hypergraph <= 1 + err)], \n",
    "               c='blue', marker=\"o\", s=s/20, \n",
    "               label='Hypergraph Score (= 1)')\n",
    "    \n",
    "    axs[i].scatter(x.iloc[0], simplicial.iloc[0], color='purple', \n",
    "                   marker=(\"+\" if simplicial.iloc[0] > 1 else \"_\"), s=s)\n",
    "    axs[i].set_xlabel(\"Group size $k$\", fontsize=20)\n",
    "    axs[i].set_ylabel(\"Homophily Score\", fontsize=20)\n",
    "    axs[i].set_ylim([0.5*min(simplicial), 6*max(hypergraph)])\n",
    "    axs[i].set_xticks(x)\n",
    "    axs[i].semilogy()\n",
    "    axs[i].set_title(dataset, fontsize=24)\n",
    "    \n",
    "fig.tight_layout()\n",
    "# plt.savefig(\"homophily_groupsize.eps\", format='eps')"
   ]
  },
  {
   "cell_type": "code",
   "execution_count": null,
   "id": "e512c868",
   "metadata": {},
   "outputs": [],
   "source": []
  }
 ],
 "metadata": {
  "kernelspec": {
   "display_name": "Python 3 (ipykernel)",
   "language": "python",
   "name": "python3"
  },
  "language_info": {
   "codemirror_mode": {
    "name": "ipython",
    "version": 3
   },
   "file_extension": ".py",
   "mimetype": "text/x-python",
   "name": "python",
   "nbconvert_exporter": "python",
   "pygments_lexer": "ipython3",
   "version": "3.8.13"
  },
  "latex_envs": {
   "LaTeX_envs_menu_present": true,
   "autoclose": false,
   "autocomplete": true,
   "bibliofile": "biblio.bib",
   "cite_by": "apalike",
   "current_citInitial": 1,
   "eqLabelWithNumbers": true,
   "eqNumInitial": 1,
   "hotkeys": {
    "equation": "Ctrl-E",
    "itemize": "Ctrl-I"
   },
   "labels_anchors": false,
   "latex_user_defs": false,
   "report_style_numbering": false,
   "user_envs_cfg": false
  },
  "toc": {
   "base_numbering": 1,
   "nav_menu": {},
   "number_sections": true,
   "sideBar": true,
   "skip_h1_title": false,
   "title_cell": "Table of Contents",
   "title_sidebar": "Contents",
   "toc_cell": false,
   "toc_position": {},
   "toc_section_display": true,
   "toc_window_display": false
  }
 },
 "nbformat": 4,
 "nbformat_minor": 5
}
